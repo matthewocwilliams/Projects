{
 "cells": [
  {
   "cell_type": "code",
   "execution_count": 72,
   "id": "4e520afc",
   "metadata": {},
   "outputs": [],
   "source": [
    "# Programming\n",
    "\n",
    "import pandas as pd\n",
    "import numpy as np\n",
    "\n",
    "# Visualisation\n",
    "import matplotlib.pyplot as plt\n",
    "import seaborn as sns\n",
    "\n",
    "# Statistics\n",
    "import statsmodels.stats.api as sms\n",
    "from statsmodels.stats.proportion import proportions_ztest, proportion_confint\n"
   ]
  },
  {
   "cell_type": "code",
   "execution_count": 73,
   "id": "cb4685d1",
   "metadata": {},
   "outputs": [],
   "source": [
    "df = pd.read_csv(\"ab_test_dataset.csv\")"
   ]
  },
  {
   "cell_type": "code",
   "execution_count": 74,
   "id": "7fa7795b",
   "metadata": {},
   "outputs": [
    {
     "data": {
      "text/html": [
       "<div>\n",
       "<style scoped>\n",
       "    .dataframe tbody tr th:only-of-type {\n",
       "        vertical-align: middle;\n",
       "    }\n",
       "\n",
       "    .dataframe tbody tr th {\n",
       "        vertical-align: top;\n",
       "    }\n",
       "\n",
       "    .dataframe thead th {\n",
       "        text-align: right;\n",
       "    }\n",
       "</style>\n",
       "<table border=\"1\" class=\"dataframe\">\n",
       "  <thead>\n",
       "    <tr style=\"text-align: right;\">\n",
       "      <th></th>\n",
       "      <th>CustomerID</th>\n",
       "      <th>Date</th>\n",
       "      <th>Treatment_Group</th>\n",
       "      <th>Conversions</th>\n",
       "      <th>Purchase_amount</th>\n",
       "    </tr>\n",
       "  </thead>\n",
       "  <tbody>\n",
       "    <tr>\n",
       "      <th>0</th>\n",
       "      <td>1</td>\n",
       "      <td>2022-06-25</td>\n",
       "      <td>Control</td>\n",
       "      <td>0</td>\n",
       "      <td>NaN</td>\n",
       "    </tr>\n",
       "    <tr>\n",
       "      <th>1</th>\n",
       "      <td>2</td>\n",
       "      <td>2022-01-28</td>\n",
       "      <td>Target</td>\n",
       "      <td>0</td>\n",
       "      <td>NaN</td>\n",
       "    </tr>\n",
       "    <tr>\n",
       "      <th>2</th>\n",
       "      <td>3</td>\n",
       "      <td>2022-08-06</td>\n",
       "      <td>Control</td>\n",
       "      <td>0</td>\n",
       "      <td>NaN</td>\n",
       "    </tr>\n",
       "    <tr>\n",
       "      <th>3</th>\n",
       "      <td>4</td>\n",
       "      <td>2022-11-23</td>\n",
       "      <td>Target</td>\n",
       "      <td>0</td>\n",
       "      <td>NaN</td>\n",
       "    </tr>\n",
       "    <tr>\n",
       "      <th>4</th>\n",
       "      <td>5</td>\n",
       "      <td>2022-03-08</td>\n",
       "      <td>Control</td>\n",
       "      <td>0</td>\n",
       "      <td>NaN</td>\n",
       "    </tr>\n",
       "  </tbody>\n",
       "</table>\n",
       "</div>"
      ],
      "text/plain": [
       "   CustomerID        Date Treatment_Group  Conversions  Purchase_amount\n",
       "0           1  2022-06-25         Control            0              NaN\n",
       "1           2  2022-01-28          Target            0              NaN\n",
       "2           3  2022-08-06         Control            0              NaN\n",
       "3           4  2022-11-23          Target            0              NaN\n",
       "4           5  2022-03-08         Control            0              NaN"
      ]
     },
     "execution_count": 74,
     "metadata": {},
     "output_type": "execute_result"
    }
   ],
   "source": [
    "df.head()"
   ]
  },
  {
   "cell_type": "code",
   "execution_count": 75,
   "id": "1d61bca8",
   "metadata": {},
   "outputs": [
    {
     "name": "stderr",
     "output_type": "stream",
     "text": [
      "C:\\Users\\User\\AppData\\Local\\Temp\\ipykernel_6220\\1079814646.py:4: UserWarning: Boolean Series key will be reindexed to match DataFrame index.\n",
      "  control_converted = control[(df.Conversions == 1)]\n"
     ]
    },
    {
     "data": {
      "text/html": [
       "<div>\n",
       "<style scoped>\n",
       "    .dataframe tbody tr th:only-of-type {\n",
       "        vertical-align: middle;\n",
       "    }\n",
       "\n",
       "    .dataframe tbody tr th {\n",
       "        vertical-align: top;\n",
       "    }\n",
       "\n",
       "    .dataframe thead th {\n",
       "        text-align: right;\n",
       "    }\n",
       "</style>\n",
       "<table border=\"1\" class=\"dataframe\">\n",
       "  <thead>\n",
       "    <tr style=\"text-align: right;\">\n",
       "      <th></th>\n",
       "      <th>CustomerID</th>\n",
       "      <th>Date</th>\n",
       "      <th>Treatment_Group</th>\n",
       "      <th>Conversions</th>\n",
       "      <th>Purchase_amount</th>\n",
       "    </tr>\n",
       "  </thead>\n",
       "  <tbody>\n",
       "    <tr>\n",
       "      <th>21</th>\n",
       "      <td>22</td>\n",
       "      <td>2022-04-17</td>\n",
       "      <td>Control</td>\n",
       "      <td>1</td>\n",
       "      <td>59.457390</td>\n",
       "    </tr>\n",
       "    <tr>\n",
       "      <th>42</th>\n",
       "      <td>43</td>\n",
       "      <td>2022-09-27</td>\n",
       "      <td>Control</td>\n",
       "      <td>1</td>\n",
       "      <td>67.827201</td>\n",
       "    </tr>\n",
       "    <tr>\n",
       "      <th>51</th>\n",
       "      <td>52</td>\n",
       "      <td>2022-07-07</td>\n",
       "      <td>Control</td>\n",
       "      <td>1</td>\n",
       "      <td>11.565641</td>\n",
       "    </tr>\n",
       "    <tr>\n",
       "      <th>66</th>\n",
       "      <td>67</td>\n",
       "      <td>2022-02-16</td>\n",
       "      <td>Control</td>\n",
       "      <td>1</td>\n",
       "      <td>91.230881</td>\n",
       "    </tr>\n",
       "    <tr>\n",
       "      <th>92</th>\n",
       "      <td>93</td>\n",
       "      <td>2022-03-12</td>\n",
       "      <td>Control</td>\n",
       "      <td>1</td>\n",
       "      <td>117.769564</td>\n",
       "    </tr>\n",
       "    <tr>\n",
       "      <th>...</th>\n",
       "      <td>...</td>\n",
       "      <td>...</td>\n",
       "      <td>...</td>\n",
       "      <td>...</td>\n",
       "      <td>...</td>\n",
       "    </tr>\n",
       "    <tr>\n",
       "      <th>839341</th>\n",
       "      <td>839342</td>\n",
       "      <td>2022-06-01</td>\n",
       "      <td>Control</td>\n",
       "      <td>1</td>\n",
       "      <td>91.129252</td>\n",
       "    </tr>\n",
       "    <tr>\n",
       "      <th>839431</th>\n",
       "      <td>839432</td>\n",
       "      <td>2022-04-15</td>\n",
       "      <td>Control</td>\n",
       "      <td>1</td>\n",
       "      <td>17.148395</td>\n",
       "    </tr>\n",
       "    <tr>\n",
       "      <th>839441</th>\n",
       "      <td>839442</td>\n",
       "      <td>2022-01-05</td>\n",
       "      <td>Control</td>\n",
       "      <td>1</td>\n",
       "      <td>130.487317</td>\n",
       "    </tr>\n",
       "    <tr>\n",
       "      <th>839449</th>\n",
       "      <td>839450</td>\n",
       "      <td>2022-08-15</td>\n",
       "      <td>Control</td>\n",
       "      <td>1</td>\n",
       "      <td>34.896074</td>\n",
       "    </tr>\n",
       "    <tr>\n",
       "      <th>839500</th>\n",
       "      <td>839501</td>\n",
       "      <td>2022-12-08</td>\n",
       "      <td>Control</td>\n",
       "      <td>1</td>\n",
       "      <td>99.631759</td>\n",
       "    </tr>\n",
       "  </tbody>\n",
       "</table>\n",
       "<p>41628 rows × 5 columns</p>\n",
       "</div>"
      ],
      "text/plain": [
       "        CustomerID        Date Treatment_Group  Conversions  Purchase_amount\n",
       "21              22  2022-04-17         Control            1        59.457390\n",
       "42              43  2022-09-27         Control            1        67.827201\n",
       "51              52  2022-07-07         Control            1        11.565641\n",
       "66              67  2022-02-16         Control            1        91.230881\n",
       "92              93  2022-03-12         Control            1       117.769564\n",
       "...            ...         ...             ...          ...              ...\n",
       "839341      839342  2022-06-01         Control            1        91.129252\n",
       "839431      839432  2022-04-15         Control            1        17.148395\n",
       "839441      839442  2022-01-05         Control            1       130.487317\n",
       "839449      839450  2022-08-15         Control            1        34.896074\n",
       "839500      839501  2022-12-08         Control            1        99.631759\n",
       "\n",
       "[41628 rows x 5 columns]"
      ]
     },
     "execution_count": 75,
     "metadata": {},
     "output_type": "execute_result"
    }
   ],
   "source": [
    "# Count number of control group conversions\n",
    "\n",
    "control = df[(df.Treatment_Group == 'Control')]\n",
    "control_converted = control[(df.Conversions == 1)]\n",
    "control_converted"
   ]
  },
  {
   "cell_type": "code",
   "execution_count": 76,
   "id": "500b43d6",
   "metadata": {},
   "outputs": [
    {
     "name": "stderr",
     "output_type": "stream",
     "text": [
      "C:\\Users\\User\\AppData\\Local\\Temp\\ipykernel_6220\\1184839783.py:4: UserWarning: Boolean Series key will be reindexed to match DataFrame index.\n",
      "  target_converted = target[(df.Conversions == 1)]\n"
     ]
    },
    {
     "data": {
      "text/html": [
       "<div>\n",
       "<style scoped>\n",
       "    .dataframe tbody tr th:only-of-type {\n",
       "        vertical-align: middle;\n",
       "    }\n",
       "\n",
       "    .dataframe tbody tr th {\n",
       "        vertical-align: top;\n",
       "    }\n",
       "\n",
       "    .dataframe thead th {\n",
       "        text-align: right;\n",
       "    }\n",
       "</style>\n",
       "<table border=\"1\" class=\"dataframe\">\n",
       "  <thead>\n",
       "    <tr style=\"text-align: right;\">\n",
       "      <th></th>\n",
       "      <th>CustomerID</th>\n",
       "      <th>Date</th>\n",
       "      <th>Treatment_Group</th>\n",
       "      <th>Conversions</th>\n",
       "      <th>Purchase_amount</th>\n",
       "    </tr>\n",
       "  </thead>\n",
       "  <tbody>\n",
       "    <tr>\n",
       "      <th>5</th>\n",
       "      <td>6</td>\n",
       "      <td>2022-02-20</td>\n",
       "      <td>Target</td>\n",
       "      <td>1</td>\n",
       "      <td>132.562912</td>\n",
       "    </tr>\n",
       "    <tr>\n",
       "      <th>48</th>\n",
       "      <td>49</td>\n",
       "      <td>2022-12-27</td>\n",
       "      <td>Target</td>\n",
       "      <td>1</td>\n",
       "      <td>119.537543</td>\n",
       "    </tr>\n",
       "    <tr>\n",
       "      <th>73</th>\n",
       "      <td>74</td>\n",
       "      <td>2022-08-06</td>\n",
       "      <td>Target</td>\n",
       "      <td>1</td>\n",
       "      <td>47.251650</td>\n",
       "    </tr>\n",
       "    <tr>\n",
       "      <th>103</th>\n",
       "      <td>104</td>\n",
       "      <td>2022-07-21</td>\n",
       "      <td>Target</td>\n",
       "      <td>1</td>\n",
       "      <td>136.659938</td>\n",
       "    </tr>\n",
       "    <tr>\n",
       "      <th>113</th>\n",
       "      <td>114</td>\n",
       "      <td>2022-07-19</td>\n",
       "      <td>Target</td>\n",
       "      <td>1</td>\n",
       "      <td>8.450868</td>\n",
       "    </tr>\n",
       "    <tr>\n",
       "      <th>...</th>\n",
       "      <td>...</td>\n",
       "      <td>...</td>\n",
       "      <td>...</td>\n",
       "      <td>...</td>\n",
       "      <td>...</td>\n",
       "    </tr>\n",
       "    <tr>\n",
       "      <th>839411</th>\n",
       "      <td>839412</td>\n",
       "      <td>2022-09-03</td>\n",
       "      <td>Target</td>\n",
       "      <td>1</td>\n",
       "      <td>25.075023</td>\n",
       "    </tr>\n",
       "    <tr>\n",
       "      <th>839418</th>\n",
       "      <td>839419</td>\n",
       "      <td>2022-04-03</td>\n",
       "      <td>Target</td>\n",
       "      <td>1</td>\n",
       "      <td>133.692845</td>\n",
       "    </tr>\n",
       "    <tr>\n",
       "      <th>839458</th>\n",
       "      <td>839459</td>\n",
       "      <td>2022-08-20</td>\n",
       "      <td>Target</td>\n",
       "      <td>1</td>\n",
       "      <td>69.570890</td>\n",
       "    </tr>\n",
       "    <tr>\n",
       "      <th>839492</th>\n",
       "      <td>839493</td>\n",
       "      <td>2022-11-26</td>\n",
       "      <td>Target</td>\n",
       "      <td>1</td>\n",
       "      <td>53.139516</td>\n",
       "    </tr>\n",
       "    <tr>\n",
       "      <th>839504</th>\n",
       "      <td>839505</td>\n",
       "      <td>2022-08-11</td>\n",
       "      <td>Target</td>\n",
       "      <td>1</td>\n",
       "      <td>51.067661</td>\n",
       "    </tr>\n",
       "  </tbody>\n",
       "</table>\n",
       "<p>42032 rows × 5 columns</p>\n",
       "</div>"
      ],
      "text/plain": [
       "        CustomerID        Date Treatment_Group  Conversions  Purchase_amount\n",
       "5                6  2022-02-20          Target            1       132.562912\n",
       "48              49  2022-12-27          Target            1       119.537543\n",
       "73              74  2022-08-06          Target            1        47.251650\n",
       "103            104  2022-07-21          Target            1       136.659938\n",
       "113            114  2022-07-19          Target            1         8.450868\n",
       "...            ...         ...             ...          ...              ...\n",
       "839411      839412  2022-09-03          Target            1        25.075023\n",
       "839418      839419  2022-04-03          Target            1       133.692845\n",
       "839458      839459  2022-08-20          Target            1        69.570890\n",
       "839492      839493  2022-11-26          Target            1        53.139516\n",
       "839504      839505  2022-08-11          Target            1        51.067661\n",
       "\n",
       "[42032 rows x 5 columns]"
      ]
     },
     "execution_count": 76,
     "metadata": {},
     "output_type": "execute_result"
    }
   ],
   "source": [
    "# Count number of Target group conversions\n",
    "\n",
    "target = df[(df.Treatment_Group == 'Target')]\n",
    "target_converted = target[(df.Conversions == 1)]\n",
    "target_converted"
   ]
  },
  {
   "cell_type": "code",
   "execution_count": 77,
   "id": "40434f73",
   "metadata": {},
   "outputs": [],
   "source": [
    "df = df[(df.Conversions == 1)]"
   ]
  },
  {
   "cell_type": "code",
   "execution_count": 78,
   "id": "d773f3f4",
   "metadata": {},
   "outputs": [
    {
     "data": {
      "text/plain": [
       "83660"
      ]
     },
     "execution_count": 78,
     "metadata": {},
     "output_type": "execute_result"
    }
   ],
   "source": [
    "# number of rows\n",
    "df.shape[0]"
   ]
  },
  {
   "cell_type": "code",
   "execution_count": 79,
   "id": "b93d4874",
   "metadata": {},
   "outputs": [
    {
     "data": {
      "text/plain": [
       "0.497585464977289"
      ]
     },
     "execution_count": 79,
     "metadata": {},
     "output_type": "execute_result"
    }
   ],
   "source": [
    "# Control conversion rate\n",
    "\n",
    "control_conversion_rate = control_converted.sum()['Conversions'] / df.shape[0]\n",
    "control_conversion_rate"
   ]
  },
  {
   "cell_type": "code",
   "execution_count": 80,
   "id": "0f0e4e70",
   "metadata": {},
   "outputs": [
    {
     "data": {
      "text/plain": [
       "Treatment_Group\n",
       "Control    41628\n",
       "Target     42032\n",
       "Name: Conversions, dtype: int64"
      ]
     },
     "execution_count": 80,
     "metadata": {},
     "output_type": "execute_result"
    }
   ],
   "source": [
    "# Treatment group conversion counts\n",
    "\n",
    "treatment_counts = df.groupby('Treatment_Group').sum()['Conversions']\n",
    "treatment_counts"
   ]
  },
  {
   "cell_type": "code",
   "execution_count": 81,
   "id": "c3ea7287",
   "metadata": {},
   "outputs": [
    {
     "data": {
      "image/png": "[encoded data removed]",
      "text/plain": [
       "<Figure size 700x400 with 1 Axes>"
      ]
     },
     "metadata": {},
     "output_type": "display_data"
    }
   ],
   "source": [
    "treatment_counts.plot(kind = 'bar', figsize=(7,4))\n",
    "plt.title('Customer count by group')\n",
    "plt.ylabel('Customer Count')\n",
    "plt.xlabel('Treatment Group')\n",
    "plt.show()"
   ]
  },
  {
   "cell_type": "code",
   "execution_count": 82,
   "id": "0209baa2",
   "metadata": {},
   "outputs": [
    {
     "data": {
      "text/plain": [
       "Treatment_Group\n",
       "Control    0.498\n",
       "Target     0.502\n",
       "Name: Conversions, dtype: float64"
      ]
     },
     "execution_count": 82,
     "metadata": {},
     "output_type": "execute_result"
    }
   ],
   "source": [
    "conversion_rates = treatment_counts / df.shape[0]\n",
    "conversion_rates = conversion_rates.round(3)\n",
    "conversion_rates"
   ]
  },
  {
   "cell_type": "code",
   "execution_count": 83,
   "id": "cf83815f",
   "metadata": {},
   "outputs": [
    {
     "data": {
      "text/plain": [
       "Treatment_Group\n",
       "Control    75.169045\n",
       "Target     75.396693\n",
       "Name: Purchase_amount, dtype: float64"
      ]
     },
     "execution_count": 83,
     "metadata": {},
     "output_type": "execute_result"
    }
   ],
   "source": [
    "# average purchase amount per customer\n",
    "\n",
    "avg_purchase = df.groupby('Treatment_Group').mean()['Purchase_amount']\n",
    "avg_purchase"
   ]
  },
  {
   "cell_type": "code",
   "execution_count": 84,
   "id": "656ea270",
   "metadata": {},
   "outputs": [
    {
     "data": {
      "image/png": "[encoded data removed]",
      "text/plain": [
       "<Figure size 700x400 with 1 Axes>"
      ]
     },
     "metadata": {},
     "output_type": "display_data"
    }
   ],
   "source": [
    "# Plot of average purchase amount\n",
    "\n",
    "avg_purchase.plot(kind = 'bar', figsize = (7,4))\n",
    "\n",
    "plt.title('Average purchase amount')\n",
    "plt.ylabel('Average Purchase Amount (£)')\n",
    "plt.xlabel('Treatment Group')\n",
    "plt.show()"
   ]
  },
  {
   "cell_type": "code",
   "execution_count": 85,
   "id": "be1a0b3e",
   "metadata": {},
   "outputs": [],
   "source": [
    "# compute the difference we want to obtain \n",
    "\n",
    "effect_size = sms.proportion_effectsize(0.49, 0.55)\n"
   ]
  },
  {
   "cell_type": "code",
   "execution_count": 86,
   "id": "25fec42c",
   "metadata": {},
   "outputs": [],
   "source": [
    "# Computing the needed sample size (per group) to ensure that we capture significatn differences\n",
    "    # Effect size = The difference you want to observe\n",
    "    # Power = The probability that we will capture an existing difference. 0.08 is standard practice\n",
    "    # Alpha = alpha value for you desired statistical significance\n",
    "\n",
    "required_n = np.ceil(sms.NormalIndPower().solve_power(effect_size, power = 0.8, alpha=0.05, ratio=1))"
   ]
  },
  {
   "cell_type": "code",
   "execution_count": 87,
   "id": "2b824b33",
   "metadata": {},
   "outputs": [
    {
     "name": "stdout",
     "output_type": "stream",
     "text": [
      "Number of observations needed by group: 1088\n",
      "Number of total observations on dataset: 83660\n",
      "\n"
     ]
    }
   ],
   "source": [
    "# Print required sample\n",
    "\n",
    "print(f'Number of observations needed by group: {int(required_n)}')\n",
    "print(f'Number of total observations on dataset: {df.shape[0]}')\n",
    "print('')"
   ]
  },
  {
   "cell_type": "code",
   "execution_count": 88,
   "id": "b16f1e14",
   "metadata": {},
   "outputs": [],
   "source": [
    "# Counting successes on each group\n",
    "conversions_count = [control.Conversions.sum(), target.Conversions.sum()]\n",
    "\n",
    "# Counting observations on each group\n",
    "obs_count = [control.Conversions.count(), target.Conversions.count()]\n",
    "\n",
    "# Computing p-value of the ad_success distribution\n",
    "z_stat, pval = proportions_ztest(conversions_count, nobs=obs_count)\n",
    "\n",
    "# Computing 95% confidence intervals\n",
    "(l_ci_con, l_ci_exp), (u_ci_con, u_ci_exp) = proportion_confint(conversions_count, nobs=obs_count, alpha=0.05)\n"
   ]
  },
  {
   "cell_type": "code",
   "execution_count": 90,
   "id": "e169b79a",
   "metadata": {},
   "outputs": [
    {
     "name": "stdout",
     "output_type": "stream",
     "text": [
      "The p_value of conversion is 0.17\n",
      "The 95% CI for conversion on the control group is [0.0983, 0.1001]\n",
      "The 95% CI for conversion on the target group is [0.0992, 0.101]\n"
     ]
    }
   ],
   "source": [
    "print('The p_value of conversion is {}'.format(pval.round(4)))\n",
    "print(f'The 95% CI for conversion on the control group is [{l_ci_con.round(4)}, {u_ci_con.round(4)}]')\n",
    "print(f'The 95% CI for conversion on the target group is [{l_ci_exp.round(4)}, {u_ci_exp.round(4)}]')"
   ]
  },
  {
   "cell_type": "code",
   "execution_count": null,
   "id": "1e6ca35b",
   "metadata": {},
   "outputs": [],
   "source": []
  }
 ],
 "metadata": {
  "kernelspec": {
   "display_name": "Python 3 (ipykernel)",
   "language": "python",
   "name": "python3"
  },
  "language_info": {
   "codemirror_mode": {
    "name": "ipython",
    "version": 3
   },
   "file_extension": ".py",
   "mimetype": "text/x-python",
   "name": "python",
   "nbconvert_exporter": "python",
   "pygments_lexer": "ipython3",
   "version": "3.9.13"
  }
 },
 "nbformat": 4,
 "nbformat_minor": 5
}
